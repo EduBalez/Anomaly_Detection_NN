{
 "cells": [
  {
   "cell_type": "markdown",
   "metadata": {},
   "source": [
    "#### Eduardo Badillo Á A01020716\n",
    "#### Rafael Díaz Medina A01024592\n",
    "#### Moisés Uriel Torres A01021323\n",
    "#### Ernesto Ramírez A01019589"
   ]
  },
  {
   "cell_type": "code",
   "execution_count": 1,
   "metadata": {},
   "outputs": [],
   "source": [
    "# Import pandas\n",
    "import pandas as pd\n",
    "from datetime import datetime"
   ]
  },
  {
   "cell_type": "code",
   "execution_count": 2,
   "metadata": {},
   "outputs": [],
   "source": [
    "# Import the dataset\n",
    "logfile = './access_log_format.csv'\n",
    "df = pd.read_csv(logfile, sep=\",\")"
   ]
  },
  {
   "cell_type": "markdown",
   "metadata": {},
   "source": [
    "# Question 1"
   ]
  },
  {
   "cell_type": "code",
   "execution_count": 3,
   "metadata": {},
   "outputs": [
    {
     "name": "stdout",
     "output_type": "stream",
     "text": [
      "<class 'pandas.core.frame.DataFrame'>\n",
      "RangeIndex: 7229 entries, 0 to 7228\n",
      "Data columns (total 10 columns):\n",
      " #   Column           Non-Null Count  Dtype \n",
      "---  ------           --------------  ----- \n",
      " 0   src_ip           7229 non-null   object\n",
      " 1   userid           7119 non-null   object\n",
      " 2   username         7119 non-null   object\n",
      " 3   datetime         7229 non-null   object\n",
      " 4   method           7229 non-null   object\n",
      " 5   response_code    7229 non-null   int64 \n",
      " 6   return_obj_size  7229 non-null   int64 \n",
      " 7   dest_address     7229 non-null   object\n",
      " 8   user_agent       7229 non-null   object\n",
      " 9   country          7229 non-null   object\n",
      "dtypes: int64(2), object(8)\n",
      "memory usage: 564.9+ KB\n"
     ]
    }
   ],
   "source": [
    "df.info()"
   ]
  },
  {
   "cell_type": "code",
   "execution_count": 4,
   "metadata": {},
   "outputs": [
    {
     "data": {
      "text/html": [
       "<div>\n",
       "<style scoped>\n",
       "    .dataframe tbody tr th:only-of-type {\n",
       "        vertical-align: middle;\n",
       "    }\n",
       "\n",
       "    .dataframe tbody tr th {\n",
       "        vertical-align: top;\n",
       "    }\n",
       "\n",
       "    .dataframe thead th {\n",
       "        text-align: right;\n",
       "    }\n",
       "</style>\n",
       "<table border=\"1\" class=\"dataframe\">\n",
       "  <thead>\n",
       "    <tr style=\"text-align: right;\">\n",
       "      <th></th>\n",
       "      <th>src_ip</th>\n",
       "      <th>userid</th>\n",
       "      <th>username</th>\n",
       "      <th>datetime</th>\n",
       "      <th>method</th>\n",
       "      <th>response_code</th>\n",
       "      <th>return_obj_size</th>\n",
       "      <th>dest_address</th>\n",
       "      <th>user_agent</th>\n",
       "      <th>country</th>\n",
       "    </tr>\n",
       "  </thead>\n",
       "  <tbody>\n",
       "    <tr>\n",
       "      <th>0</th>\n",
       "      <td>14.139.187.130</td>\n",
       "      <td>hahiss</td>\n",
       "      <td>hahiss@optonline.net</td>\n",
       "      <td>2017-01-01 02:16:51</td>\n",
       "      <td>GET / HTTP/1.1</td>\n",
       "      <td>200</td>\n",
       "      <td>10267</td>\n",
       "      <td>https://www.google.co.in/</td>\n",
       "      <td>Mozilla/5.0 (Windows NT 6.1) AppleWebKit/537.3...</td>\n",
       "      <td>FR</td>\n",
       "    </tr>\n",
       "    <tr>\n",
       "      <th>1</th>\n",
       "      <td>14.139.187.130</td>\n",
       "      <td>ahuillet</td>\n",
       "      <td>ahuillet@comcast.net</td>\n",
       "      <td>2017-01-01 02:16:55</td>\n",
       "      <td>GET /GitHub-Mark.png HTTP/1.1</td>\n",
       "      <td>200</td>\n",
       "      <td>7428</td>\n",
       "      <td>http://www.secrepo.com/</td>\n",
       "      <td>Mozilla/5.0 (Windows NT 6.1) AppleWebKit/537.3...</td>\n",
       "      <td>FR</td>\n",
       "    </tr>\n",
       "    <tr>\n",
       "      <th>2</th>\n",
       "      <td>14.139.187.130</td>\n",
       "      <td>gtaylor</td>\n",
       "      <td>gtaylor@gmail.com</td>\n",
       "      <td>2017-01-01 02:16:56</td>\n",
       "      <td>GET /twitter-icon.png HTTP/1.1</td>\n",
       "      <td>200</td>\n",
       "      <td>27788</td>\n",
       "      <td>http://www.secrepo.com/</td>\n",
       "      <td>Mozilla/5.0 (Windows NT 6.1) AppleWebKit/537.3...</td>\n",
       "      <td>BR</td>\n",
       "    </tr>\n",
       "    <tr>\n",
       "      <th>3</th>\n",
       "      <td>68.180.228.229</td>\n",
       "      <td>terjesa</td>\n",
       "      <td>terjesa@sbcglobal.net</td>\n",
       "      <td>2017-01-01 02:17:59</td>\n",
       "      <td>GET /robots.txt HTTP/1.1</td>\n",
       "      <td>200</td>\n",
       "      <td>233</td>\n",
       "      <td>-</td>\n",
       "      <td>Mozilla/5.0 (compatible; Yahoo! Slurp; http://...</td>\n",
       "      <td>FR</td>\n",
       "    </tr>\n",
       "    <tr>\n",
       "      <th>4</th>\n",
       "      <td>68.180.228.229</td>\n",
       "      <td>smallpaul</td>\n",
       "      <td>smallpaul@optonline.net</td>\n",
       "      <td>2017-01-01 02:17:59</td>\n",
       "      <td>GET /self.logs/access.log.2015-11-01.gz HTTP/1.1</td>\n",
       "      <td>200</td>\n",
       "      <td>6465</td>\n",
       "      <td>-</td>\n",
       "      <td>Mozilla/5.0 (compatible; Yahoo! Slurp; http://...</td>\n",
       "      <td>US</td>\n",
       "    </tr>\n",
       "  </tbody>\n",
       "</table>\n",
       "</div>"
      ],
      "text/plain": [
       "           src_ip     userid                 username             datetime  \\\n",
       "0  14.139.187.130     hahiss     hahiss@optonline.net  2017-01-01 02:16:51   \n",
       "1  14.139.187.130   ahuillet     ahuillet@comcast.net  2017-01-01 02:16:55   \n",
       "2  14.139.187.130    gtaylor        gtaylor@gmail.com  2017-01-01 02:16:56   \n",
       "3  68.180.228.229    terjesa    terjesa@sbcglobal.net  2017-01-01 02:17:59   \n",
       "4  68.180.228.229  smallpaul  smallpaul@optonline.net  2017-01-01 02:17:59   \n",
       "\n",
       "                                             method  response_code  \\\n",
       "0                                    GET / HTTP/1.1            200   \n",
       "1                     GET /GitHub-Mark.png HTTP/1.1            200   \n",
       "2                    GET /twitter-icon.png HTTP/1.1            200   \n",
       "3                          GET /robots.txt HTTP/1.1            200   \n",
       "4  GET /self.logs/access.log.2015-11-01.gz HTTP/1.1            200   \n",
       "\n",
       "   return_obj_size               dest_address  \\\n",
       "0            10267  https://www.google.co.in/   \n",
       "1             7428    http://www.secrepo.com/   \n",
       "2            27788    http://www.secrepo.com/   \n",
       "3              233                          -   \n",
       "4             6465                          -   \n",
       "\n",
       "                                          user_agent country  \n",
       "0  Mozilla/5.0 (Windows NT 6.1) AppleWebKit/537.3...      FR  \n",
       "1  Mozilla/5.0 (Windows NT 6.1) AppleWebKit/537.3...      FR  \n",
       "2  Mozilla/5.0 (Windows NT 6.1) AppleWebKit/537.3...      BR  \n",
       "3  Mozilla/5.0 (compatible; Yahoo! Slurp; http://...      FR  \n",
       "4  Mozilla/5.0 (compatible; Yahoo! Slurp; http://...      US  "
      ]
     },
     "execution_count": 4,
     "metadata": {},
     "output_type": "execute_result"
    }
   ],
   "source": [
    "df.head()"
   ]
  },
  {
   "cell_type": "markdown",
   "metadata": {},
   "source": [
    "First, we analyze the dataset and observe that it has 7229 entries"
   ]
  },
  {
   "cell_type": "markdown",
   "metadata": {},
   "source": [
    "Then, we declare the values that we are looking for in the dataset, for the Ip, the Datetime and the country"
   ]
  },
  {
   "cell_type": "code",
   "execution_count": 5,
   "metadata": {},
   "outputs": [],
   "source": [
    "searched_ip = '14.139.187.130'\n",
    "searched_datetime = '2017-01-01 06:56:17'\n",
    "searched_country = \"US\""
   ]
  },
  {
   "cell_type": "markdown",
   "metadata": {},
   "source": [
    "After declaring the values, we search for the Ips that match with the ip 14.139.187.130"
   ]
  },
  {
   "cell_type": "code",
   "execution_count": 6,
   "metadata": {},
   "outputs": [
    {
     "name": "stdout",
     "output_type": "stream",
     "text": [
      "Ips that match:  src_ip\n",
      "14.139.187.130    3\n",
      "dtype: int64\n"
     ]
    }
   ],
   "source": [
    "ip = df['src_ip'] == searched_ip\n",
    "print(\"Ips that match: \", df[ip].groupby(['src_ip']).size())"
   ]
  },
  {
   "cell_type": "markdown",
   "metadata": {},
   "source": [
    "We see that the Ip appears 3 times in the dataset and, then, we get the probability of getting a transaction from that Ip by dividing the number of ocurrences between the total number of entries"
   ]
  },
  {
   "cell_type": "code",
   "execution_count": 7,
   "metadata": {},
   "outputs": [
    {
     "name": "stdout",
     "output_type": "stream",
     "text": [
      "Probability of a transaction from the searched ip:  0.00041499515838981876\n"
     ]
    }
   ],
   "source": [
    "ip_probability = 3/7229\n",
    "print(\"Probability of a transaction from the searched ip: \", ip_probability)"
   ]
  },
  {
   "cell_type": "markdown",
   "metadata": {},
   "source": [
    "Then, we search for the datetimes that match with the date '2017-01-01 06:56:17'"
   ]
  },
  {
   "cell_type": "code",
   "execution_count": 8,
   "metadata": {},
   "outputs": [
    {
     "name": "stdout",
     "output_type": "stream",
     "text": [
      "Datetimes that match:  datetime\n",
      "2017-01-01 06:56:17    3\n",
      "dtype: int64\n"
     ]
    }
   ],
   "source": [
    "datetimes = df['datetime'] == searched_datetime\n",
    "print(\"Datetimes that match: \", df[datetimes].groupby(['datetime']).size())"
   ]
  },
  {
   "cell_type": "markdown",
   "metadata": {},
   "source": [
    "We see that the datetime appears 3 times in the dataset and we get the probability of getting a transaction in that date"
   ]
  },
  {
   "cell_type": "code",
   "execution_count": 9,
   "metadata": {},
   "outputs": [
    {
     "name": "stdout",
     "output_type": "stream",
     "text": [
      "Probability of a transaction in the searched datetime:  0.00041499515838981876\n"
     ]
    }
   ],
   "source": [
    "datetime_probability = 3/7229\n",
    "print(\"Probability of a transaction in the searched datetime: \", datetime_probability)"
   ]
  },
  {
   "cell_type": "markdown",
   "metadata": {},
   "source": [
    "We also search for the \"US\" country in the dataset"
   ]
  },
  {
   "cell_type": "code",
   "execution_count": 10,
   "metadata": {},
   "outputs": [
    {
     "name": "stdout",
     "output_type": "stream",
     "text": [
      "Countries that match:  country\n",
      "US    1806\n",
      "dtype: int64\n"
     ]
    }
   ],
   "source": [
    "countries = df['country'] == searched_country\n",
    "print(\"Countries that match: \", df[countries].groupby(['country']).size())"
   ]
  },
  {
   "cell_type": "markdown",
   "metadata": {},
   "source": [
    "We see that the US appears 1806 times in the dataset and we get the probability of getting a transaction from that country"
   ]
  },
  {
   "cell_type": "code",
   "execution_count": 11,
   "metadata": {},
   "outputs": [
    {
     "name": "stdout",
     "output_type": "stream",
     "text": [
      "Probability of a transaction in the searched country:  0.2498270853506709\n"
     ]
    }
   ],
   "source": [
    "country_probability = 1806/7229\n",
    "print(\"Probability of a transaction in the searched country: \", country_probability)"
   ]
  },
  {
   "cell_type": "markdown",
   "metadata": {},
   "source": [
    "Finally we get the probability of the three events happening at the same time. We get the probability of a transaction coming from the IP '14.139.187.130', at the datetime '2017-01-01 06:56:17' and from the US"
   ]
  },
  {
   "cell_type": "code",
   "execution_count": 12,
   "metadata": {},
   "outputs": [
    {
     "name": "stdout",
     "output_type": "stream",
     "text": [
      "Entries that match:  Series([], dtype: int64)\n"
     ]
    }
   ],
   "source": [
    "final_search = (df['src_ip'] == searched_ip) & (df['datetime'] == searched_datetime) & (df['country'] == searched_country)\n",
    "print(\"Entries that match: \", df[final_search].groupby(['src_ip']).size())"
   ]
  },
  {
   "cell_type": "markdown",
   "metadata": {},
   "source": [
    "We see that 0 entries match this query, so the probability of that event ocurring would be of 0. This is the answer of question 1."
   ]
  },
  {
   "cell_type": "markdown",
   "metadata": {},
   "source": [
    "Also, with this we can conclude that if at any point some transaction matches with that search, it would be an attack, because its probability of ocurring is 0."
   ]
  },
  {
   "cell_type": "markdown",
   "metadata": {},
   "source": [
    "# Question 2"
   ]
  },
  {
   "cell_type": "code",
   "execution_count": 13,
   "metadata": {},
   "outputs": [
    {
     "data": {
      "text/plain": [
       "src_ip             object\n",
       "userid             object\n",
       "username           object\n",
       "datetime           object\n",
       "method             object\n",
       "response_code       int64\n",
       "return_obj_size     int64\n",
       "dest_address       object\n",
       "user_agent         object\n",
       "country            object\n",
       "dtype: object"
      ]
     },
     "execution_count": 13,
     "metadata": {},
     "output_type": "execute_result"
    }
   ],
   "source": [
    "# We copy the original dataframe into a new one so we can modify it without problems\n",
    "df2 = df.copy()\n",
    "df2.dtypes"
   ]
  },
  {
   "cell_type": "code",
   "execution_count": 14,
   "metadata": {},
   "outputs": [
    {
     "data": {
      "text/plain": [
       "src_ip                     object\n",
       "userid                     object\n",
       "username                   object\n",
       "datetime           datetime64[ns]\n",
       "method                     object\n",
       "response_code               int64\n",
       "return_obj_size             int64\n",
       "dest_address               object\n",
       "user_agent                 object\n",
       "country                    object\n",
       "dtype: object"
      ]
     },
     "execution_count": 14,
     "metadata": {},
     "output_type": "execute_result"
    }
   ],
   "source": [
    "# We transform the datetime field from a string to a datetime data type \n",
    "df2['datetime'] = [datetime.strptime(dt, '%Y-%m-%d %H:%M:%S') for dt in df2['datetime']]\n",
    "df2.dtypes"
   ]
  },
  {
   "cell_type": "code",
   "execution_count": 15,
   "metadata": {},
   "outputs": [
    {
     "name": "stdout",
     "output_type": "stream",
     "text": [
      "datetime\n",
      "2017-01-01 02:00:00     5\n",
      "2017-01-01 02:30:00     0\n",
      "2017-01-01 03:00:00     2\n",
      "2017-01-01 03:30:00     0\n",
      "2017-01-01 04:00:00    11\n",
      "                       ..\n",
      "2017-01-04 00:30:00    17\n",
      "2017-01-04 01:00:00    19\n",
      "2017-01-04 01:30:00    33\n",
      "2017-01-04 02:00:00    26\n",
      "2017-01-04 02:30:00    33\n",
      "Freq: 30T, Length: 146, dtype: int64\n"
     ]
    }
   ],
   "source": [
    "# Transactions are considered successful when the response code is 200\n",
    "successful_transactions = df2['response_code'] == 200\n",
    "\n",
    "# We group by the datetime with a frequency of 30 minutes to get all the successful transactions in each interval\n",
    "intervals = df2[successful_transactions].groupby(pd.Grouper(key='datetime',freq='30Min')).size()\n",
    "print(intervals)"
   ]
  },
  {
   "cell_type": "markdown",
   "metadata": {},
   "source": [
    "These results are the total number of successful transactions in each interval"
   ]
  },
  {
   "cell_type": "code",
   "execution_count": 16,
   "metadata": {},
   "outputs": [
    {
     "name": "stdout",
     "output_type": "stream",
     "text": [
      "23.164383561643834\n"
     ]
    }
   ],
   "source": [
    "# After getting all the successful transactions per interval, we get the mean of this result\n",
    "\n",
    "mean = intervals.mean()\n",
    "print(mean)"
   ]
  },
  {
   "cell_type": "markdown",
   "metadata": {},
   "source": [
    "Here we can see the that the average number of successful transactions in 30 minutes is of 23.16 transactions"
   ]
  },
  {
   "cell_type": "code",
   "execution_count": 17,
   "metadata": {},
   "outputs": [
    {
     "name": "stdout",
     "output_type": "stream",
     "text": [
      "20.794239055402947\n"
     ]
    }
   ],
   "source": [
    "standard_deviation = intervals.std()\n",
    "print(standard_deviation)"
   ]
  },
  {
   "cell_type": "markdown",
   "metadata": {},
   "source": [
    "And we also see that the standard deviation is of 20.79 transactions. So, one standard deviation above the mean would be 43.95 (23.16 + 20.79). We will round this to 44."
   ]
  },
  {
   "cell_type": "markdown",
   "metadata": {},
   "source": [
    "With this information we can know if a transaction can be considered suspicious or not. Assuming that one standard deviation above the mean can be considered suspicious we can know that if there are 44 or more successful transactions in an interval, all of the transactions in that interval will be considered suspicious."
   ]
  },
  {
   "cell_type": "code",
   "execution_count": 18,
   "metadata": {},
   "outputs": [
    {
     "data": {
      "text/html": [
       "<div>\n",
       "<style scoped>\n",
       "    .dataframe tbody tr th:only-of-type {\n",
       "        vertical-align: middle;\n",
       "    }\n",
       "\n",
       "    .dataframe tbody tr th {\n",
       "        vertical-align: top;\n",
       "    }\n",
       "\n",
       "    .dataframe thead th {\n",
       "        text-align: right;\n",
       "    }\n",
       "</style>\n",
       "<table border=\"1\" class=\"dataframe\">\n",
       "  <thead>\n",
       "    <tr style=\"text-align: right;\">\n",
       "      <th></th>\n",
       "      <th>src_ip</th>\n",
       "      <th>userid</th>\n",
       "      <th>username</th>\n",
       "      <th>datetime</th>\n",
       "      <th>method</th>\n",
       "      <th>response_code</th>\n",
       "      <th>return_obj_size</th>\n",
       "      <th>dest_address</th>\n",
       "      <th>user_agent</th>\n",
       "      <th>country</th>\n",
       "    </tr>\n",
       "  </thead>\n",
       "  <tbody>\n",
       "    <tr>\n",
       "      <th>0</th>\n",
       "      <td>14.139.187.130</td>\n",
       "      <td>hahiss</td>\n",
       "      <td>hahiss@optonline.net</td>\n",
       "      <td>2017-01-01 02:16:51</td>\n",
       "      <td>GET / HTTP/1.1</td>\n",
       "      <td>200</td>\n",
       "      <td>10267</td>\n",
       "      <td>https://www.google.co.in/</td>\n",
       "      <td>Mozilla/5.0 (Windows NT 6.1) AppleWebKit/537.3...</td>\n",
       "      <td>FR</td>\n",
       "    </tr>\n",
       "    <tr>\n",
       "      <th>1</th>\n",
       "      <td>14.139.187.130</td>\n",
       "      <td>ahuillet</td>\n",
       "      <td>ahuillet@comcast.net</td>\n",
       "      <td>2017-01-01 02:16:55</td>\n",
       "      <td>GET /GitHub-Mark.png HTTP/1.1</td>\n",
       "      <td>200</td>\n",
       "      <td>7428</td>\n",
       "      <td>http://www.secrepo.com/</td>\n",
       "      <td>Mozilla/5.0 (Windows NT 6.1) AppleWebKit/537.3...</td>\n",
       "      <td>FR</td>\n",
       "    </tr>\n",
       "    <tr>\n",
       "      <th>2</th>\n",
       "      <td>14.139.187.130</td>\n",
       "      <td>gtaylor</td>\n",
       "      <td>gtaylor@gmail.com</td>\n",
       "      <td>2017-01-01 02:16:56</td>\n",
       "      <td>GET /twitter-icon.png HTTP/1.1</td>\n",
       "      <td>200</td>\n",
       "      <td>27788</td>\n",
       "      <td>http://www.secrepo.com/</td>\n",
       "      <td>Mozilla/5.0 (Windows NT 6.1) AppleWebKit/537.3...</td>\n",
       "      <td>BR</td>\n",
       "    </tr>\n",
       "    <tr>\n",
       "      <th>3</th>\n",
       "      <td>68.180.228.229</td>\n",
       "      <td>terjesa</td>\n",
       "      <td>terjesa@sbcglobal.net</td>\n",
       "      <td>2017-01-01 02:17:59</td>\n",
       "      <td>GET /robots.txt HTTP/1.1</td>\n",
       "      <td>200</td>\n",
       "      <td>233</td>\n",
       "      <td>-</td>\n",
       "      <td>Mozilla/5.0 (compatible; Yahoo! Slurp; http://...</td>\n",
       "      <td>FR</td>\n",
       "    </tr>\n",
       "    <tr>\n",
       "      <th>4</th>\n",
       "      <td>68.180.228.229</td>\n",
       "      <td>smallpaul</td>\n",
       "      <td>smallpaul@optonline.net</td>\n",
       "      <td>2017-01-01 02:17:59</td>\n",
       "      <td>GET /self.logs/access.log.2015-11-01.gz HTTP/1.1</td>\n",
       "      <td>200</td>\n",
       "      <td>6465</td>\n",
       "      <td>-</td>\n",
       "      <td>Mozilla/5.0 (compatible; Yahoo! Slurp; http://...</td>\n",
       "      <td>US</td>\n",
       "    </tr>\n",
       "  </tbody>\n",
       "</table>\n",
       "</div>"
      ],
      "text/plain": [
       "           src_ip     userid                 username            datetime  \\\n",
       "0  14.139.187.130     hahiss     hahiss@optonline.net 2017-01-01 02:16:51   \n",
       "1  14.139.187.130   ahuillet     ahuillet@comcast.net 2017-01-01 02:16:55   \n",
       "2  14.139.187.130    gtaylor        gtaylor@gmail.com 2017-01-01 02:16:56   \n",
       "3  68.180.228.229    terjesa    terjesa@sbcglobal.net 2017-01-01 02:17:59   \n",
       "4  68.180.228.229  smallpaul  smallpaul@optonline.net 2017-01-01 02:17:59   \n",
       "\n",
       "                                             method  response_code  \\\n",
       "0                                    GET / HTTP/1.1            200   \n",
       "1                     GET /GitHub-Mark.png HTTP/1.1            200   \n",
       "2                    GET /twitter-icon.png HTTP/1.1            200   \n",
       "3                          GET /robots.txt HTTP/1.1            200   \n",
       "4  GET /self.logs/access.log.2015-11-01.gz HTTP/1.1            200   \n",
       "\n",
       "   return_obj_size               dest_address  \\\n",
       "0            10267  https://www.google.co.in/   \n",
       "1             7428    http://www.secrepo.com/   \n",
       "2            27788    http://www.secrepo.com/   \n",
       "3              233                          -   \n",
       "4             6465                          -   \n",
       "\n",
       "                                          user_agent country  \n",
       "0  Mozilla/5.0 (Windows NT 6.1) AppleWebKit/537.3...      FR  \n",
       "1  Mozilla/5.0 (Windows NT 6.1) AppleWebKit/537.3...      FR  \n",
       "2  Mozilla/5.0 (Windows NT 6.1) AppleWebKit/537.3...      BR  \n",
       "3  Mozilla/5.0 (compatible; Yahoo! Slurp; http://...      FR  \n",
       "4  Mozilla/5.0 (compatible; Yahoo! Slurp; http://...      US  "
      ]
     },
     "execution_count": 18,
     "metadata": {},
     "output_type": "execute_result"
    }
   ],
   "source": [
    "df2.head()"
   ]
  },
  {
   "cell_type": "code",
   "execution_count": 21,
   "metadata": {},
   "outputs": [],
   "source": [
    "# We will loop over all of the transactions going interval by interval to know if the transactions are considered suspicious\n",
    "dt = \"2017-01-01 02:00:00\"\n",
    "dt = datetime.strptime(dt, '%Y-%m-%d %H:%M:%S')\n",
    "\n",
    "# Counter to know the current 30-minute interval\n",
    "cont = 0\n",
    "\n",
    "# For each 30-minute interval we will check if there are 44 or more successul transactions.\n",
    "if intervals[cont] >= 44 :\n",
    "    # If there are, the transactions in that interval will be labeled as suspicious\n",
    "    is_suspicious = True\n",
    "else:\n",
    "    is_suspicious = False\n",
    "\n",
    "susps = []\n",
    "# Loop over all the rows in the dataset\n",
    "for index, row in df2.iterrows():\n",
    "    \n",
    "    # If the current transaction exceeds the 30-minute interval\n",
    "    if row['datetime'] >= (dt + pd.Timedelta(pd.offsets.Minute(30))):\n",
    "        # Update the counter\n",
    "        cont += 1\n",
    "        # Update the current interval\n",
    "        dt += pd.Timedelta(pd.offsets.Minute(30))\n",
    "        # Update the suspicious label for the transactions of the current interval\n",
    "        if intervals[cont] >= 44 :\n",
    "            is_suspicious = True\n",
    "        else:\n",
    "            is_suspicious = False\n",
    "    \n",
    "    # For each row we add the the new \"is_suspicious\" field, that labels the transaction with either True or False\n",
    "    #df2.set_value(index,'is_suspicious',is_suspicious)\n",
    "    susps.append(is_suspicious)\n",
    "    \n",
    "df2['is_suspicious'] = susps"
   ]
  },
  {
   "cell_type": "code",
   "execution_count": 22,
   "metadata": {},
   "outputs": [
    {
     "data": {
      "text/html": [
       "<div>\n",
       "<style scoped>\n",
       "    .dataframe tbody tr th:only-of-type {\n",
       "        vertical-align: middle;\n",
       "    }\n",
       "\n",
       "    .dataframe tbody tr th {\n",
       "        vertical-align: top;\n",
       "    }\n",
       "\n",
       "    .dataframe thead th {\n",
       "        text-align: right;\n",
       "    }\n",
       "</style>\n",
       "<table border=\"1\" class=\"dataframe\">\n",
       "  <thead>\n",
       "    <tr style=\"text-align: right;\">\n",
       "      <th></th>\n",
       "      <th>src_ip</th>\n",
       "      <th>userid</th>\n",
       "      <th>username</th>\n",
       "      <th>datetime</th>\n",
       "      <th>method</th>\n",
       "      <th>response_code</th>\n",
       "      <th>return_obj_size</th>\n",
       "      <th>dest_address</th>\n",
       "      <th>user_agent</th>\n",
       "      <th>country</th>\n",
       "      <th>is_suspicious</th>\n",
       "    </tr>\n",
       "  </thead>\n",
       "  <tbody>\n",
       "    <tr>\n",
       "      <th>0</th>\n",
       "      <td>14.139.187.130</td>\n",
       "      <td>hahiss</td>\n",
       "      <td>hahiss@optonline.net</td>\n",
       "      <td>2017-01-01 02:16:51</td>\n",
       "      <td>GET / HTTP/1.1</td>\n",
       "      <td>200</td>\n",
       "      <td>10267</td>\n",
       "      <td>https://www.google.co.in/</td>\n",
       "      <td>Mozilla/5.0 (Windows NT 6.1) AppleWebKit/537.3...</td>\n",
       "      <td>FR</td>\n",
       "      <td>False</td>\n",
       "    </tr>\n",
       "    <tr>\n",
       "      <th>1</th>\n",
       "      <td>14.139.187.130</td>\n",
       "      <td>ahuillet</td>\n",
       "      <td>ahuillet@comcast.net</td>\n",
       "      <td>2017-01-01 02:16:55</td>\n",
       "      <td>GET /GitHub-Mark.png HTTP/1.1</td>\n",
       "      <td>200</td>\n",
       "      <td>7428</td>\n",
       "      <td>http://www.secrepo.com/</td>\n",
       "      <td>Mozilla/5.0 (Windows NT 6.1) AppleWebKit/537.3...</td>\n",
       "      <td>FR</td>\n",
       "      <td>False</td>\n",
       "    </tr>\n",
       "    <tr>\n",
       "      <th>2</th>\n",
       "      <td>14.139.187.130</td>\n",
       "      <td>gtaylor</td>\n",
       "      <td>gtaylor@gmail.com</td>\n",
       "      <td>2017-01-01 02:16:56</td>\n",
       "      <td>GET /twitter-icon.png HTTP/1.1</td>\n",
       "      <td>200</td>\n",
       "      <td>27788</td>\n",
       "      <td>http://www.secrepo.com/</td>\n",
       "      <td>Mozilla/5.0 (Windows NT 6.1) AppleWebKit/537.3...</td>\n",
       "      <td>BR</td>\n",
       "      <td>False</td>\n",
       "    </tr>\n",
       "    <tr>\n",
       "      <th>3</th>\n",
       "      <td>68.180.228.229</td>\n",
       "      <td>terjesa</td>\n",
       "      <td>terjesa@sbcglobal.net</td>\n",
       "      <td>2017-01-01 02:17:59</td>\n",
       "      <td>GET /robots.txt HTTP/1.1</td>\n",
       "      <td>200</td>\n",
       "      <td>233</td>\n",
       "      <td>-</td>\n",
       "      <td>Mozilla/5.0 (compatible; Yahoo! Slurp; http://...</td>\n",
       "      <td>FR</td>\n",
       "      <td>False</td>\n",
       "    </tr>\n",
       "    <tr>\n",
       "      <th>4</th>\n",
       "      <td>68.180.228.229</td>\n",
       "      <td>smallpaul</td>\n",
       "      <td>smallpaul@optonline.net</td>\n",
       "      <td>2017-01-01 02:17:59</td>\n",
       "      <td>GET /self.logs/access.log.2015-11-01.gz HTTP/1.1</td>\n",
       "      <td>200</td>\n",
       "      <td>6465</td>\n",
       "      <td>-</td>\n",
       "      <td>Mozilla/5.0 (compatible; Yahoo! Slurp; http://...</td>\n",
       "      <td>US</td>\n",
       "      <td>False</td>\n",
       "    </tr>\n",
       "  </tbody>\n",
       "</table>\n",
       "</div>"
      ],
      "text/plain": [
       "           src_ip     userid                 username            datetime  \\\n",
       "0  14.139.187.130     hahiss     hahiss@optonline.net 2017-01-01 02:16:51   \n",
       "1  14.139.187.130   ahuillet     ahuillet@comcast.net 2017-01-01 02:16:55   \n",
       "2  14.139.187.130    gtaylor        gtaylor@gmail.com 2017-01-01 02:16:56   \n",
       "3  68.180.228.229    terjesa    terjesa@sbcglobal.net 2017-01-01 02:17:59   \n",
       "4  68.180.228.229  smallpaul  smallpaul@optonline.net 2017-01-01 02:17:59   \n",
       "\n",
       "                                             method  response_code  \\\n",
       "0                                    GET / HTTP/1.1            200   \n",
       "1                     GET /GitHub-Mark.png HTTP/1.1            200   \n",
       "2                    GET /twitter-icon.png HTTP/1.1            200   \n",
       "3                          GET /robots.txt HTTP/1.1            200   \n",
       "4  GET /self.logs/access.log.2015-11-01.gz HTTP/1.1            200   \n",
       "\n",
       "   return_obj_size               dest_address  \\\n",
       "0            10267  https://www.google.co.in/   \n",
       "1             7428    http://www.secrepo.com/   \n",
       "2            27788    http://www.secrepo.com/   \n",
       "3              233                          -   \n",
       "4             6465                          -   \n",
       "\n",
       "                                          user_agent country  is_suspicious  \n",
       "0  Mozilla/5.0 (Windows NT 6.1) AppleWebKit/537.3...      FR          False  \n",
       "1  Mozilla/5.0 (Windows NT 6.1) AppleWebKit/537.3...      FR          False  \n",
       "2  Mozilla/5.0 (Windows NT 6.1) AppleWebKit/537.3...      BR          False  \n",
       "3  Mozilla/5.0 (compatible; Yahoo! Slurp; http://...      FR          False  \n",
       "4  Mozilla/5.0 (compatible; Yahoo! Slurp; http://...      US          False  "
      ]
     },
     "execution_count": 22,
     "metadata": {},
     "output_type": "execute_result"
    }
   ],
   "source": [
    "df2.head()"
   ]
  },
  {
   "cell_type": "code",
   "execution_count": 23,
   "metadata": {},
   "outputs": [
    {
     "data": {
      "text/plain": [
       "array([False,  True])"
      ]
     },
     "execution_count": 23,
     "metadata": {},
     "output_type": "execute_result"
    }
   ],
   "source": [
    "df2.is_suspicious.unique()"
   ]
  },
  {
   "cell_type": "markdown",
   "metadata": {},
   "source": [
    "We can see that the new column was added correctly"
   ]
  },
  {
   "cell_type": "code",
   "execution_count": 24,
   "metadata": {},
   "outputs": [
    {
     "data": {
      "text/plain": [
       "False    5399\n",
       "True     1830\n",
       "Name: is_suspicious, dtype: int64"
      ]
     },
     "execution_count": 24,
     "metadata": {},
     "output_type": "execute_result"
    }
   ],
   "source": [
    "df2['is_suspicious'].value_counts()"
   ]
  },
  {
   "cell_type": "markdown",
   "metadata": {},
   "source": [
    "And we see that in total we have 1830 suspicious transactions"
   ]
  },
  {
   "cell_type": "markdown",
   "metadata": {},
   "source": [
    "# Question 3"
   ]
  },
  {
   "cell_type": "code",
   "execution_count": 25,
   "metadata": {},
   "outputs": [
    {
     "data": {
      "text/html": [
       "<div>\n",
       "<style scoped>\n",
       "    .dataframe tbody tr th:only-of-type {\n",
       "        vertical-align: middle;\n",
       "    }\n",
       "\n",
       "    .dataframe tbody tr th {\n",
       "        vertical-align: top;\n",
       "    }\n",
       "\n",
       "    .dataframe thead th {\n",
       "        text-align: right;\n",
       "    }\n",
       "</style>\n",
       "<table border=\"1\" class=\"dataframe\">\n",
       "  <thead>\n",
       "    <tr style=\"text-align: right;\">\n",
       "      <th></th>\n",
       "      <th>src_ip</th>\n",
       "      <th>userid</th>\n",
       "      <th>username</th>\n",
       "      <th>datetime</th>\n",
       "      <th>method</th>\n",
       "      <th>response_code</th>\n",
       "      <th>return_obj_size</th>\n",
       "      <th>dest_address</th>\n",
       "      <th>user_agent</th>\n",
       "      <th>country</th>\n",
       "      <th>is_suspicious</th>\n",
       "    </tr>\n",
       "  </thead>\n",
       "  <tbody>\n",
       "    <tr>\n",
       "      <th>0</th>\n",
       "      <td>14.139.187.130</td>\n",
       "      <td>hahiss</td>\n",
       "      <td>hahiss@optonline.net</td>\n",
       "      <td>2017-01-01 02:16:51</td>\n",
       "      <td>GET / HTTP/1.1</td>\n",
       "      <td>200</td>\n",
       "      <td>10267</td>\n",
       "      <td>https://www.google.co.in/</td>\n",
       "      <td>Mozilla/5.0 (Windows NT 6.1) AppleWebKit/537.3...</td>\n",
       "      <td>FR</td>\n",
       "      <td>False</td>\n",
       "    </tr>\n",
       "    <tr>\n",
       "      <th>1</th>\n",
       "      <td>14.139.187.130</td>\n",
       "      <td>ahuillet</td>\n",
       "      <td>ahuillet@comcast.net</td>\n",
       "      <td>2017-01-01 02:16:55</td>\n",
       "      <td>GET /GitHub-Mark.png HTTP/1.1</td>\n",
       "      <td>200</td>\n",
       "      <td>7428</td>\n",
       "      <td>http://www.secrepo.com/</td>\n",
       "      <td>Mozilla/5.0 (Windows NT 6.1) AppleWebKit/537.3...</td>\n",
       "      <td>FR</td>\n",
       "      <td>False</td>\n",
       "    </tr>\n",
       "    <tr>\n",
       "      <th>2</th>\n",
       "      <td>14.139.187.130</td>\n",
       "      <td>gtaylor</td>\n",
       "      <td>gtaylor@gmail.com</td>\n",
       "      <td>2017-01-01 02:16:56</td>\n",
       "      <td>GET /twitter-icon.png HTTP/1.1</td>\n",
       "      <td>200</td>\n",
       "      <td>27788</td>\n",
       "      <td>http://www.secrepo.com/</td>\n",
       "      <td>Mozilla/5.0 (Windows NT 6.1) AppleWebKit/537.3...</td>\n",
       "      <td>BR</td>\n",
       "      <td>False</td>\n",
       "    </tr>\n",
       "    <tr>\n",
       "      <th>3</th>\n",
       "      <td>68.180.228.229</td>\n",
       "      <td>terjesa</td>\n",
       "      <td>terjesa@sbcglobal.net</td>\n",
       "      <td>2017-01-01 02:17:59</td>\n",
       "      <td>GET /robots.txt HTTP/1.1</td>\n",
       "      <td>200</td>\n",
       "      <td>233</td>\n",
       "      <td>-</td>\n",
       "      <td>Mozilla/5.0 (compatible; Yahoo! Slurp; http://...</td>\n",
       "      <td>FR</td>\n",
       "      <td>False</td>\n",
       "    </tr>\n",
       "    <tr>\n",
       "      <th>4</th>\n",
       "      <td>68.180.228.229</td>\n",
       "      <td>smallpaul</td>\n",
       "      <td>smallpaul@optonline.net</td>\n",
       "      <td>2017-01-01 02:17:59</td>\n",
       "      <td>GET /self.logs/access.log.2015-11-01.gz HTTP/1.1</td>\n",
       "      <td>200</td>\n",
       "      <td>6465</td>\n",
       "      <td>-</td>\n",
       "      <td>Mozilla/5.0 (compatible; Yahoo! Slurp; http://...</td>\n",
       "      <td>US</td>\n",
       "      <td>False</td>\n",
       "    </tr>\n",
       "  </tbody>\n",
       "</table>\n",
       "</div>"
      ],
      "text/plain": [
       "           src_ip     userid                 username            datetime  \\\n",
       "0  14.139.187.130     hahiss     hahiss@optonline.net 2017-01-01 02:16:51   \n",
       "1  14.139.187.130   ahuillet     ahuillet@comcast.net 2017-01-01 02:16:55   \n",
       "2  14.139.187.130    gtaylor        gtaylor@gmail.com 2017-01-01 02:16:56   \n",
       "3  68.180.228.229    terjesa    terjesa@sbcglobal.net 2017-01-01 02:17:59   \n",
       "4  68.180.228.229  smallpaul  smallpaul@optonline.net 2017-01-01 02:17:59   \n",
       "\n",
       "                                             method  response_code  \\\n",
       "0                                    GET / HTTP/1.1            200   \n",
       "1                     GET /GitHub-Mark.png HTTP/1.1            200   \n",
       "2                    GET /twitter-icon.png HTTP/1.1            200   \n",
       "3                          GET /robots.txt HTTP/1.1            200   \n",
       "4  GET /self.logs/access.log.2015-11-01.gz HTTP/1.1            200   \n",
       "\n",
       "   return_obj_size               dest_address  \\\n",
       "0            10267  https://www.google.co.in/   \n",
       "1             7428    http://www.secrepo.com/   \n",
       "2            27788    http://www.secrepo.com/   \n",
       "3              233                          -   \n",
       "4             6465                          -   \n",
       "\n",
       "                                          user_agent country  is_suspicious  \n",
       "0  Mozilla/5.0 (Windows NT 6.1) AppleWebKit/537.3...      FR          False  \n",
       "1  Mozilla/5.0 (Windows NT 6.1) AppleWebKit/537.3...      FR          False  \n",
       "2  Mozilla/5.0 (Windows NT 6.1) AppleWebKit/537.3...      BR          False  \n",
       "3  Mozilla/5.0 (compatible; Yahoo! Slurp; http://...      FR          False  \n",
       "4  Mozilla/5.0 (compatible; Yahoo! Slurp; http://...      US          False  "
      ]
     },
     "execution_count": 25,
     "metadata": {},
     "output_type": "execute_result"
    }
   ],
   "source": [
    "# Copy the dataset\n",
    "df3 = df2.copy()\n",
    "df3.head()"
   ]
  },
  {
   "cell_type": "markdown",
   "metadata": {},
   "source": [
    "Using this dataset we will calculate the probability of the previous suspicious classification being legitimate. We will calculate how likely it is to consider a transaction suspicicious based on their user, ip and country. For this, we will use conditional probability:"
   ]
  },
  {
   "cell_type": "markdown",
   "metadata": {},
   "source": [
    "p( Suspicious | (User ∩ IP ∩ Country) ) = ( p( Suspicious ∩ User ∩ IP ∩ Country) + α) / (p( User ∩ IP ∩ Country) + β)"
   ]
  },
  {
   "cell_type": "code",
   "execution_count": 26,
   "metadata": {},
   "outputs": [],
   "source": [
    "# We are using alpha and beta so there are no transictions with 0 probability\n",
    "alpha = 0.99850757\n",
    "beta = 1\n",
    "\n",
    "probs = []\n",
    "# Loop over all the rows in the dataset\n",
    "for index, row in df3.iterrows():\n",
    "    \n",
    "    # Search for the number of transactions that have the same suspicious, ip, user and country that the current row\n",
    "    first_search = (df3['is_suspicious'] == row['is_suspicious']) & (df3['src_ip'] == row['src_ip']) & (df3['userid'] == row['userid']) & (df3['country'] == row['country'])\n",
    "    # Calculate the probability by dividing the previous search by the total number of transactions\n",
    "    first_probability = len(df3.loc[first_search]) / len(df3)\n",
    "    \n",
    "    # Search for the number of transactions that have the same ip, user and country that the current row\n",
    "    second_search = (df3['src_ip'] == row['src_ip']) & (df3['userid'] == row['userid']) & (df3['country'] == row['country'])\n",
    "    # Calculate the probability by dividing the previous search by the total number of transactions\n",
    "    second_probability = len(df3.loc[second_search]) / len(df3)\n",
    "    \n",
    "    # Get the final probability by substracting 1 minus the result of dividing the first probability by the second one\n",
    "    probability = 1 - ((first_probability + alpha) / (second_probability + beta))\n",
    "    \n",
    "    # Save this probability in a new column of the dataset\n",
    "    probs.append(probability)\n",
    "\n",
    "df3['probability'] = probs"
   ]
  },
  {
   "cell_type": "code",
   "execution_count": 27,
   "metadata": {},
   "outputs": [
    {
     "data": {
      "text/html": [
       "<div>\n",
       "<style scoped>\n",
       "    .dataframe tbody tr th:only-of-type {\n",
       "        vertical-align: middle;\n",
       "    }\n",
       "\n",
       "    .dataframe tbody tr th {\n",
       "        vertical-align: top;\n",
       "    }\n",
       "\n",
       "    .dataframe thead th {\n",
       "        text-align: right;\n",
       "    }\n",
       "</style>\n",
       "<table border=\"1\" class=\"dataframe\">\n",
       "  <thead>\n",
       "    <tr style=\"text-align: right;\">\n",
       "      <th></th>\n",
       "      <th>src_ip</th>\n",
       "      <th>userid</th>\n",
       "      <th>username</th>\n",
       "      <th>datetime</th>\n",
       "      <th>method</th>\n",
       "      <th>response_code</th>\n",
       "      <th>return_obj_size</th>\n",
       "      <th>dest_address</th>\n",
       "      <th>user_agent</th>\n",
       "      <th>country</th>\n",
       "      <th>is_suspicious</th>\n",
       "      <th>probability</th>\n",
       "    </tr>\n",
       "  </thead>\n",
       "  <tbody>\n",
       "    <tr>\n",
       "      <th>0</th>\n",
       "      <td>14.139.187.130</td>\n",
       "      <td>hahiss</td>\n",
       "      <td>hahiss@optonline.net</td>\n",
       "      <td>2017-01-01 02:16:51</td>\n",
       "      <td>GET / HTTP/1.1</td>\n",
       "      <td>200</td>\n",
       "      <td>10267</td>\n",
       "      <td>https://www.google.co.in/</td>\n",
       "      <td>Mozilla/5.0 (Windows NT 6.1) AppleWebKit/537.3...</td>\n",
       "      <td>FR</td>\n",
       "      <td>False</td>\n",
       "      <td>0.001492</td>\n",
       "    </tr>\n",
       "    <tr>\n",
       "      <th>1</th>\n",
       "      <td>14.139.187.130</td>\n",
       "      <td>ahuillet</td>\n",
       "      <td>ahuillet@comcast.net</td>\n",
       "      <td>2017-01-01 02:16:55</td>\n",
       "      <td>GET /GitHub-Mark.png HTTP/1.1</td>\n",
       "      <td>200</td>\n",
       "      <td>7428</td>\n",
       "      <td>http://www.secrepo.com/</td>\n",
       "      <td>Mozilla/5.0 (Windows NT 6.1) AppleWebKit/537.3...</td>\n",
       "      <td>FR</td>\n",
       "      <td>False</td>\n",
       "      <td>0.001492</td>\n",
       "    </tr>\n",
       "    <tr>\n",
       "      <th>2</th>\n",
       "      <td>14.139.187.130</td>\n",
       "      <td>gtaylor</td>\n",
       "      <td>gtaylor@gmail.com</td>\n",
       "      <td>2017-01-01 02:16:56</td>\n",
       "      <td>GET /twitter-icon.png HTTP/1.1</td>\n",
       "      <td>200</td>\n",
       "      <td>27788</td>\n",
       "      <td>http://www.secrepo.com/</td>\n",
       "      <td>Mozilla/5.0 (Windows NT 6.1) AppleWebKit/537.3...</td>\n",
       "      <td>BR</td>\n",
       "      <td>False</td>\n",
       "      <td>0.001492</td>\n",
       "    </tr>\n",
       "    <tr>\n",
       "      <th>3</th>\n",
       "      <td>68.180.228.229</td>\n",
       "      <td>terjesa</td>\n",
       "      <td>terjesa@sbcglobal.net</td>\n",
       "      <td>2017-01-01 02:17:59</td>\n",
       "      <td>GET /robots.txt HTTP/1.1</td>\n",
       "      <td>200</td>\n",
       "      <td>233</td>\n",
       "      <td>-</td>\n",
       "      <td>Mozilla/5.0 (compatible; Yahoo! Slurp; http://...</td>\n",
       "      <td>FR</td>\n",
       "      <td>False</td>\n",
       "      <td>0.001492</td>\n",
       "    </tr>\n",
       "    <tr>\n",
       "      <th>4</th>\n",
       "      <td>68.180.228.229</td>\n",
       "      <td>smallpaul</td>\n",
       "      <td>smallpaul@optonline.net</td>\n",
       "      <td>2017-01-01 02:17:59</td>\n",
       "      <td>GET /self.logs/access.log.2015-11-01.gz HTTP/1.1</td>\n",
       "      <td>200</td>\n",
       "      <td>6465</td>\n",
       "      <td>-</td>\n",
       "      <td>Mozilla/5.0 (compatible; Yahoo! Slurp; http://...</td>\n",
       "      <td>US</td>\n",
       "      <td>False</td>\n",
       "      <td>0.001492</td>\n",
       "    </tr>\n",
       "  </tbody>\n",
       "</table>\n",
       "</div>"
      ],
      "text/plain": [
       "           src_ip     userid                 username            datetime  \\\n",
       "0  14.139.187.130     hahiss     hahiss@optonline.net 2017-01-01 02:16:51   \n",
       "1  14.139.187.130   ahuillet     ahuillet@comcast.net 2017-01-01 02:16:55   \n",
       "2  14.139.187.130    gtaylor        gtaylor@gmail.com 2017-01-01 02:16:56   \n",
       "3  68.180.228.229    terjesa    terjesa@sbcglobal.net 2017-01-01 02:17:59   \n",
       "4  68.180.228.229  smallpaul  smallpaul@optonline.net 2017-01-01 02:17:59   \n",
       "\n",
       "                                             method  response_code  \\\n",
       "0                                    GET / HTTP/1.1            200   \n",
       "1                     GET /GitHub-Mark.png HTTP/1.1            200   \n",
       "2                    GET /twitter-icon.png HTTP/1.1            200   \n",
       "3                          GET /robots.txt HTTP/1.1            200   \n",
       "4  GET /self.logs/access.log.2015-11-01.gz HTTP/1.1            200   \n",
       "\n",
       "   return_obj_size               dest_address  \\\n",
       "0            10267  https://www.google.co.in/   \n",
       "1             7428    http://www.secrepo.com/   \n",
       "2            27788    http://www.secrepo.com/   \n",
       "3              233                          -   \n",
       "4             6465                          -   \n",
       "\n",
       "                                          user_agent country  is_suspicious  \\\n",
       "0  Mozilla/5.0 (Windows NT 6.1) AppleWebKit/537.3...      FR          False   \n",
       "1  Mozilla/5.0 (Windows NT 6.1) AppleWebKit/537.3...      FR          False   \n",
       "2  Mozilla/5.0 (Windows NT 6.1) AppleWebKit/537.3...      BR          False   \n",
       "3  Mozilla/5.0 (compatible; Yahoo! Slurp; http://...      FR          False   \n",
       "4  Mozilla/5.0 (compatible; Yahoo! Slurp; http://...      US          False   \n",
       "\n",
       "   probability  \n",
       "0     0.001492  \n",
       "1     0.001492  \n",
       "2     0.001492  \n",
       "3     0.001492  \n",
       "4     0.001492  "
      ]
     },
     "execution_count": 27,
     "metadata": {},
     "output_type": "execute_result"
    }
   ],
   "source": [
    "df3.head()"
   ]
  },
  {
   "cell_type": "markdown",
   "metadata": {},
   "source": [
    "Here we see that the new column was added and all the rows have the probability of the suspicion "
   ]
  },
  {
   "cell_type": "code",
   "execution_count": null,
   "metadata": {},
   "outputs": [],
   "source": []
  }
 ],
 "metadata": {
  "kernelspec": {
   "display_name": "Python 3",
   "language": "python",
   "name": "python3"
  },
  "language_info": {
   "codemirror_mode": {
    "name": "ipython",
    "version": 3
   },
   "file_extension": ".py",
   "mimetype": "text/x-python",
   "name": "python",
   "nbconvert_exporter": "python",
   "pygments_lexer": "ipython3",
   "version": "3.7.6"
  }
 },
 "nbformat": 4,
 "nbformat_minor": 2
}
